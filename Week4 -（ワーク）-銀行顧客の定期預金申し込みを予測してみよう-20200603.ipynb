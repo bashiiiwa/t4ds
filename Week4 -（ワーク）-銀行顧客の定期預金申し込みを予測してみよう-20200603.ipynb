{
 "cells": [
  {
   "cell_type": "markdown",
   "metadata": {},
   "source": [
    "# Week4 - 銀行顧客の定期預金申し込みを予測してみよう!\n"
   ]
  },
  {
   "cell_type": "markdown",
   "metadata": {},
   "source": [
    "## 前回のおさらい\n",
    "機械学習のステップは以下でした。\n",
    "![おさらい](./images/おさらい.png)\n",
    "\n"
   ]
  },
  {
   "cell_type": "markdown",
   "metadata": {},
   "source": [
    "ちょっと待った！　訓練データ　と　検証データは分けるんでしたよね！！\n",
    "![traintest](./images/traintest.png)"
   ]
  },
  {
   "cell_type": "markdown",
   "metadata": {},
   "source": [
    "## 学習の目標\n",
    "\n",
    "銀行顧客の定期預金申し込みを予測、活用するCRISP-DMのサイクルを回してみる。\n",
    "決定木モデルを作成し、予測結果を評価する\n",
    "ハイパーパラメータのチューニングをする（グリッドサーチの技法）方法を学ぶ\n",
    "予測結果を可視化し活用するダッシュボードを作ってみる\n"
   ]
  },
  {
   "cell_type": "markdown",
   "metadata": {},
   "source": [
    "## 1.データの理解\n",
    "bank-additional-full.csv に接続します。Tableau Desktopから接続し、どのような分類で申し込み＝Yが多いかあたりをつけましょう。\n"
   ]
  },
  {
   "cell_type": "markdown",
   "metadata": {},
   "source": [
    "![deta_list](./images/data_list.png)"
   ]
  },
  {
   "cell_type": "code",
   "execution_count": 18,
   "metadata": {},
   "outputs": [
    {
     "data": {
      "text/html": [
       "<div class='tableauPlaceholder' id='viz1580558060146' style='position: relative'><noscript><a href='#'><img alt=' ' src='https:&#47;&#47;public.tableau.com&#47;static&#47;images&#47;Z6&#47;Z6ZG6CZBX&#47;1_rss.png' style='border: none' /></a></noscript><object class='tableauViz'  style='display:none;'><param name='host_url' value='https%3A%2F%2Fpublic.tableau.com%2F' /> <param name='embed_code_version' value='3' /> <param name='path' value='shared&#47;Z6ZG6CZBX' /> <param name='toolbar' value='yes' /><param name='static_image' value='https:&#47;&#47;public.tableau.com&#47;static&#47;images&#47;Z6&#47;Z6ZG6CZBX&#47;1.png' /> <param name='animate_transition' value='yes' /><param name='display_static_image' value='yes' /><param name='display_spinner' value='yes' /><param name='display_overlay' value='yes' /><param name='display_count' value='yes' /><param name='filter' value='publish=yes' /></object></div>                <script type='text/javascript'>                    var divElement = document.getElementById('viz1580558060146');                    var vizElement = divElement.getElementsByTagName('object')[0];                    vizElement.style.width='100%';vizElement.style.height=(divElement.offsetWidth*0.75)+'px';                    var scriptElement = document.createElement('script');                    scriptElement.src = 'https://public.tableau.com/javascripts/api/viz_v1.js';                    vizElement.parentNode.insertBefore(scriptElement, vizElement);                </script>\n"
      ],
      "text/plain": [
       "<IPython.core.display.HTML object>"
      ]
     },
     "metadata": {},
     "output_type": "display_data"
    }
   ],
   "source": [
    "%%HTML\n",
    "<div class='tableauPlaceholder' id='viz1580558060146' style='position: relative'><noscript><a href='#'><img alt=' ' src='https:&#47;&#47;public.tableau.com&#47;static&#47;images&#47;Z6&#47;Z6ZG6CZBX&#47;1_rss.png' style='border: none' /></a></noscript><object class='tableauViz'  style='display:none;'><param name='host_url' value='https%3A%2F%2Fpublic.tableau.com%2F' /> <param name='embed_code_version' value='3' /> <param name='path' value='shared&#47;Z6ZG6CZBX' /> <param name='toolbar' value='yes' /><param name='static_image' value='https:&#47;&#47;public.tableau.com&#47;static&#47;images&#47;Z6&#47;Z6ZG6CZBX&#47;1.png' /> <param name='animate_transition' value='yes' /><param name='display_static_image' value='yes' /><param name='display_spinner' value='yes' /><param name='display_overlay' value='yes' /><param name='display_count' value='yes' /><param name='filter' value='publish=yes' /></object></div>                <script type='text/javascript'>                    var divElement = document.getElementById('viz1580558060146');                    var vizElement = divElement.getElementsByTagName('object')[0];                    vizElement.style.width='100%';vizElement.style.height=(divElement.offsetWidth*0.75)+'px';                    var scriptElement = document.createElement('script');                    scriptElement.src = 'https://public.tableau.com/javascripts/api/viz_v1.js';                    vizElement.parentNode.insertBefore(scriptElement, vizElement);                </script>"
   ]
  },
  {
   "cell_type": "markdown",
   "metadata": {},
   "source": [
    "## 2.予測モデルの作成とチューニング\n",
    "\n",
    "それでは、早速予測モデルを作成していきしょう。ここからはJupyter Notebookを利用します。\n",
    "今回は決定木をPythonのscikit-learnに含まれるDecisionTree Classifier（決定木モデル）を利用します。必要なライブラリを読み込みます。"
   ]
  },
  {
   "cell_type": "markdown",
   "metadata": {},
   "source": [
    "## 本日の流れを確認します。\n",
    "![week4overview](./images/week4-overview.jpg)"
   ]
  },
  {
   "cell_type": "code",
   "execution_count": 1,
   "metadata": {},
   "outputs": [],
   "source": [
    "##import を実施します。\n",
    "\n",
    "import pandas as pd \n",
    "import numpy as np\n",
    "from sklearn.tree import DecisionTreeClassifier\n",
    "from sklearn.metrics import log_loss , accuracy_score"
   ]
  },
  {
   "cell_type": "code",
   "execution_count": 20,
   "metadata": {},
   "outputs": [],
   "source": [
    "##初めの一回はpipでインストールが必要です。　決定木グラフの構造を書き出す際に利用します。\n",
    "\n",
    "##!pip install pydotplus"
   ]
  },
  {
   "cell_type": "markdown",
   "metadata": {},
   "source": [
    "先ほどの訓練データを学習して、モデルを作成します。まずは訓練データを読み込みます。"
   ]
  },
  {
   "cell_type": "code",
   "execution_count": 21,
   "metadata": {},
   "outputs": [],
   "source": [
    "##データを読み込みます。\n",
    "#df = pd.read_csv(\"bank-additional-full.csv\", delimiter=\";\")"
   ]
  },
  {
   "cell_type": "markdown",
   "metadata": {},
   "source": [
    "読み込んだデータを確認します。"
   ]
  },
  {
   "cell_type": "code",
   "execution_count": 2,
   "metadata": {},
   "outputs": [],
   "source": [
    "##データを確認します。\n",
    "#df.head()\n"
   ]
  },
  {
   "cell_type": "markdown",
   "metadata": {},
   "source": [
    "訓練データの行数と列数を確認します。"
   ]
  },
  {
   "cell_type": "code",
   "execution_count": 3,
   "metadata": {},
   "outputs": [],
   "source": [
    "#df.shape\n"
   ]
  },
  {
   "cell_type": "markdown",
   "metadata": {},
   "source": [
    "入力変数と出力変数をそれぞれ抜き出します。"
   ]
  },
  {
   "cell_type": "code",
   "execution_count": 24,
   "metadata": {},
   "outputs": [],
   "source": [
    "##目的変数を抜き出します。　やってみましょう！\n",
    "#t = \n",
    "\n",
    "##説明変数を抜き出します。　やってみましょう！\n",
    "#x = \n"
   ]
  },
  {
   "cell_type": "markdown",
   "metadata": {},
   "source": [
    "### ダミー変数化\n",
    "カテゴリカルな（連続した数値ではなく、文字列を含む）データはそのままではモデル作成に利用できません！\n",
    "\n",
    "ですのでダミー変数化(カテゴリごとに1または0の値を持つフィールドに分割）します。\n",
    "![dummy](./images/dummy.png)"
   ]
  },
  {
   "cell_type": "code",
   "execution_count": 4,
   "metadata": {},
   "outputs": [],
   "source": [
    "##ダミー変数化をおこないます \n",
    "#xd = pd.get_dummies(x)\n"
   ]
  },
  {
   "cell_type": "markdown",
   "metadata": {},
   "source": [
    "内容を確認します。"
   ]
  },
  {
   "cell_type": "code",
   "execution_count": 5,
   "metadata": {},
   "outputs": [],
   "source": [
    "##内容を確認します。\n",
    "#xd.head()\n"
   ]
  },
  {
   "cell_type": "markdown",
   "metadata": {},
   "source": [
    "### 訓練データと検証データの分割\n",
    "訓練データと検証データに分割します。ここでは、test_size=0.1 として全体の1割を検証データに利用します。"
   ]
  },
  {
   "cell_type": "code",
   "execution_count": 27,
   "metadata": {},
   "outputs": [],
   "source": [
    "## 訓練データと検証データに分割します。   \n",
    "from sklearn.model_selection import train_test_split\n",
    "x_train, x_val, t_train, t_val = train_test_split(xd, t, test_size=0.1, random_state=1)"
   ]
  },
  {
   "cell_type": "code",
   "execution_count": 6,
   "metadata": {},
   "outputs": [],
   "source": [
    "##訓練データの行数を確認します。\n",
    "#len(x_train)"
   ]
  },
  {
   "cell_type": "code",
   "execution_count": 7,
   "metadata": {},
   "outputs": [],
   "source": [
    "##検証データの行数を確認します。\n",
    "#len(x_val)"
   ]
  },
  {
   "cell_type": "markdown",
   "metadata": {},
   "source": [
    "### モデルの作成と学習 max_depth=3\n",
    "\n",
    "決定木モデルの作成時に、ハイパーパラメータを設定することができます、ここではmax_depth=3、min_samples_leaf=500 を設定します。続けて、訓練データをモデルに代入し学習（fit）させます。"
   ]
  },
  {
   "cell_type": "code",
   "execution_count": 31,
   "metadata": {},
   "outputs": [],
   "source": [
    "## max_depth =3 でモデルの作成\n",
    "# clf3 = DecisionTreeClassifier(max_depth=3,min_samples_leaf=500)\n",
    "\n",
    "clf3 = DecisionTreeClassifier(max_depth=3, min_samples_leaf=500)\n"
   ]
  },
  {
   "cell_type": "code",
   "execution_count": 8,
   "metadata": {},
   "outputs": [],
   "source": [
    "## 訓練データをモデルに代入し学習（fit）させます。\n",
    "#clf3.fit(x_train,t_train)"
   ]
  },
  {
   "cell_type": "markdown",
   "metadata": {},
   "source": [
    "学習させたモデルを 「Web Graphviz 」ツールにて可視化します。\n",
    "※　Jupyter Notebook内に決定木モデルの可視化を表示する場合は、「Tableauで始めるデータサイエンス巻末、補足資料「graphvizツール導入手順」を参照ください。\n"
   ]
  },
  {
   "cell_type": "code",
   "execution_count": 33,
   "metadata": {},
   "outputs": [],
   "source": [
    "## max_depth =3 で決定木モデルのグラフ化\n",
    "from sklearn.tree import export_graphviz\n",
    "import pydotplus\n",
    "from IPython.display import Image\n",
    "\n",
    "export_graphviz(clf3, out_file=\"tree_clf3.dot\", feature_names=xd.columns, class_names=[\"0\",\"1\"], filled=True, rounded=True)\n",
    "g = pydotplus.graph_from_dot_file(path=\"tree_clf3.dot\")\n",
    "\n",
    "## GraphvizをインストールしてJupyterNotebook内に決定木グラフを表示する場合以下を実行します。\n",
    "## Image(g.create_png())"
   ]
  },
  {
   "cell_type": "markdown",
   "metadata": {},
   "source": [
    "### 決定木グラフの可視化手順\n",
    "① Jupyter notebook を起動したディレクトリに \"tree_clf3.dot\" ファイルがあることを確認します。\n",
    "\n",
    "② notepad等のエディタから①を開きます。\n",
    "\n",
    "③ Ctrl+A ですべて選択しコピーします。\n",
    "\n",
    "④ http://www.webgraphviz.com/　を開きます。\n",
    "\n",
    "⑤コードを④にコピーし、Generate Graph!　をクリックします。\n",
    "\n",
    "![clf3](./images/webgraphviz.png)"
   ]
  },
  {
   "cell_type": "markdown",
   "metadata": {},
   "source": [
    "グラフの読み方としては、青色の濃い部分は目的変数である、「定額預金の申し込みが有（yes) 」が多い分類、逆にオレンジ色は少ない分類になっているということになります。青色が濃いところに注目すると、duration <=172.5 ではない（つまり duration > 172.5) かつ pdays <= 513.0 の区分の青色が濃いです。つまり、duration > 172.5　かつ　pdpoutcome_success>0.5 である場合に、申し込みが有る可能性が高いということになります。前回キャンペーンに成功していて、コンタクト（会話）時間が172.5秒以上の場合申し込みをする可能性が高いという事ですね。\n",
    "\n",
    "MEMO: 「偏り」や「不均等さ」を数値で表したものが「ジニ係数」です。ジニ係数は0から1までの値をとり、1に近いほど偏りが大きく、0に近いほど偏りが小さいことを表します。"
   ]
  },
  {
   "cell_type": "markdown",
   "metadata": {},
   "source": [
    "訓練データと検証データで精度を確認します。"
   ]
  },
  {
   "cell_type": "code",
   "execution_count": 9,
   "metadata": {},
   "outputs": [],
   "source": [
    "## 訓練データでの精度 = 何個中何個当たっていたか？(Accuracy）を確認します。\n",
    "#clf3.score(x_train, t_train) "
   ]
  },
  {
   "cell_type": "code",
   "execution_count": 10,
   "metadata": {},
   "outputs": [],
   "source": [
    "## 検証データでの精度 = 何個中何個当たっていたか？(Accuracy）を確認します。\n",
    "#clf3.score(x_val, t_val)"
   ]
  },
  {
   "cell_type": "markdown",
   "metadata": {},
   "source": [
    "\n",
    "\n",
    "\n"
   ]
  },
  {
   "cell_type": "markdown",
   "metadata": {},
   "source": [
    "訓練データと検証データそれぞれでモデルの精度（正解のレコード数 / 全体のレコード数）のスコアを確認します。訓練データ＝xx.xx%、検証データ＝xx.xx%となりました。"
   ]
  },
  {
   "cell_type": "markdown",
   "metadata": {},
   "source": [
    "## 予測モデルのチューニングを実施"
   ]
  },
  {
   "cell_type": "markdown",
   "metadata": {},
   "source": [
    "### モデルの作成と学習 max_depth=6\n",
    "次にパラメータをチューニングして、モデルの精度が変化するかどうかを確認します。max_depth=6 に増やしてモデルを作成してみましょう。\n",
    "ちなみに他にどのようなパラメータがあるのかについては、Notebookで「DecisionTreeClassifier」にカーソルを置いて「Shift+Tab」、＋ボタンを押して表示を拡張します。"
   ]
  },
  {
   "cell_type": "code",
   "execution_count": 36,
   "metadata": {},
   "outputs": [],
   "source": [
    "## max_depth =6 でモデルの作成\n",
    "# clf6 = DecisionTreeClassifier(max_depth=6 , min_samples_leaf=500)\n",
    "clf6 = DecisionTreeClassifier(max_depth=6 , min_samples_leaf=500)\n"
   ]
  },
  {
   "cell_type": "code",
   "execution_count": 11,
   "metadata": {},
   "outputs": [],
   "source": [
    "## 訓練データをモデルに代入し学習（fit）させます。\n",
    "# clf6.fit(x_train,t_train)"
   ]
  },
  {
   "cell_type": "code",
   "execution_count": 38,
   "metadata": {
    "scrolled": true
   },
   "outputs": [],
   "source": [
    "from sklearn.tree import export_graphviz\n",
    "import pydotplus\n",
    "from IPython.display import Image\n",
    "export_graphviz(clf6, out_file=\"tree_clf6.dot\", feature_names=xd.columns, class_names=[\"0\",\"1\"], filled=True, rounded=True)\n",
    "g = pydotplus.graph_from_dot_file(path=\"tree_clf6.dot\")\n",
    "\n",
    "##Image(g.create_png())"
   ]
  },
  {
   "cell_type": "markdown",
   "metadata": {},
   "source": [
    "maxdepth=3 の時と同様にWebGraphvizを使って maxdepth=6 での決定木グラフを書いてみましょう。\n",
    "![clf6](./images/clf6.png)\n"
   ]
  },
  {
   "cell_type": "code",
   "execution_count": 12,
   "metadata": {},
   "outputs": [],
   "source": [
    "## 訓練データでの精度 = 何個中何個当たっていたか？(Accuracy）を確認します。\n",
    "#clf6.score(x_train, t_train)  "
   ]
  },
  {
   "cell_type": "code",
   "execution_count": 13,
   "metadata": {},
   "outputs": [],
   "source": [
    "## 検証データでの精度 = 何個中何個当たっていたか？(Accuracy）を確認します。\n",
    "#clf6.score(x_val, t_val)  # Accuracy: 精度 = 何個中何個当たっていたか？"
   ]
  },
  {
   "cell_type": "markdown",
   "metadata": {},
   "source": [
    "### モデルの作成と学習 max_depth=12"
   ]
  },
  {
   "cell_type": "code",
   "execution_count": 41,
   "metadata": {},
   "outputs": [
    {
     "data": {
      "text/plain": [
       "DecisionTreeClassifier(ccp_alpha=0.0, class_weight=None, criterion='gini',\n",
       "                       max_depth=12, max_features=None, max_leaf_nodes=None,\n",
       "                       min_impurity_decrease=0.0, min_impurity_split=None,\n",
       "                       min_samples_leaf=500, min_samples_split=2,\n",
       "                       min_weight_fraction_leaf=0.0, presort='deprecated',\n",
       "                       random_state=None, splitter='best')"
      ]
     },
     "execution_count": 41,
     "metadata": {},
     "output_type": "execute_result"
    }
   ],
   "source": [
    "##モデルの作成\n",
    "clf12 = DecisionTreeClassifier(max_depth=12 , min_samples_leaf=500)\n",
    "clf12.fit(x_train,t_train)"
   ]
  },
  {
   "cell_type": "code",
   "execution_count": 42,
   "metadata": {},
   "outputs": [],
   "source": [
    "from sklearn.tree import export_graphviz\n",
    "import pydotplus\n",
    "from IPython.display import Image\n",
    "export_graphviz(clf12, out_file=\"tree_clf12.dot\", feature_names=xd.columns, class_names=[\"0\",\"1\"], filled=True, rounded=True)\n",
    "g = pydotplus.graph_from_dot_file(path=\"tree_clf12.dot\")\n",
    "##Image(g.create_png())"
   ]
  },
  {
   "cell_type": "markdown",
   "metadata": {},
   "source": [
    "maxdepth=3 の時と同様にWebGraphvizを使って maxdepth=12 での決定木グラフを書いてみましょう。\n",
    "![clf6](./images/clf12.png)"
   ]
  },
  {
   "cell_type": "code",
   "execution_count": 14,
   "metadata": {},
   "outputs": [],
   "source": [
    "## 訓練データでの精度 = 何個中何個当たっていたか？(Accuracy）を確認します。\n",
    "#clf12.score(x_train, t_train)  # Accuracy: 精度 = 何個中何個当たっていたか？"
   ]
  },
  {
   "cell_type": "code",
   "execution_count": 15,
   "metadata": {},
   "outputs": [],
   "source": [
    "## 検証データでの精度 = 何個中何個当たっていたか？(Accuracy）を確認します。\n",
    "#clf12.score(x_val, t_val)  # Accuracy: 精度 = 何個中何個当たっていたか？"
   ]
  },
  {
   "cell_type": "markdown",
   "metadata": {},
   "source": [
    "### クロスバリデーションとは？\n",
    "\n",
    "今までの学習法では、検証データは学習に利用していませんでした、これってもったいなくないですか？\n",
    "更に、たまたま、学習に使ったデータが偏っていたらどうでしょうか？少し不安ですね。\n",
    "\n",
    "ここで、クロスバリデーションの登場です。K-分割交差検証（K-fold cross-validation）とも言います。\n",
    "\n",
    "　K- 分割交差検証とは、今までのようにある1つの訓練データ、検証データに対し\n",
    "学習から評価までを行うのではなく、 K個のデータに分割後、 1個の検証データとK-1個の訓練データに対し、K 回検証を行う方法になります。\n",
    "\n",
    "　 K=5の場合を考えてみましょう。まず5 個のデータに分割し、そのうちの1つのデータを検証データ、残り4つのデータを訓練データにして学習から評価までを行います。\n",
    "これが図①にあたります。次に、①で検証データに使用しなかったデータ\n",
    "の内の1つを検証データ、残りを訓練データに使用し、学習から評価までを行います\n",
    "（②）。この流れを、全ての分割データを検証データに使用するまで繰り返します。つまり、今回の場合は5 回繰り返すことになります。最終的に全ての検証スコアを合わせて評価します。\n",
    "\n",
    "[参考](https://qiita.com/LicaOka/items/c6725aa8961df9332cc7 \"比較的少なめのデータで機械学習する時は交差検証 (Cross Validation) をするのです\")\n",
    "![交差検証](./images/交差検証.png)"
   ]
  },
  {
   "cell_type": "markdown",
   "metadata": {},
   "source": [
    "### 最適なハイパーパラメータの調整（Grid Searchの利用）"
   ]
  },
  {
   "cell_type": "markdown",
   "metadata": {},
   "source": [
    "ここまでmax_depthの大きさを3、6、12と変更して確認を行いましたが、他の値ではどうだろう？その他のパラメータを変更した場合はどうなるだろう・・・一体どのパラメータの組み合わせが最適なのだろうと疑問を持ちますね。\n",
    "\n",
    "しかし、パラメータの組み合わせは膨大にあり一つ一つ確認するのは気の遠くなる作業となります。\n",
    "\n",
    "そこで、**「グリッドサーチ」** という方法が役立ちます。\n",
    "\n",
    "「グリッドサーチ」では検証したいパラメータのリストを指定し、総当たりの組み合わせでモデルの精度を検証し、最も当てはまりの良い組み合わせを「best parameter」として提示してくれます。\n",
    "\n",
    "更に内部で前述の**クロスバリデーション**もやってくれます。\n",
    "![GridSearch](./images/gridsearch.png)\n",
    "\n",
    "早速やってみましょう。\n",
    "\n",
    "ここでは検証の対象となるパラメータを\n",
    "max_depth を [1, 2, 3, 4, 5, 6, 7, 8, 9, 10]と\n",
    "min_sample_leaf を[100,200,500,1000]と指定します。"
   ]
  },
  {
   "cell_type": "markdown",
   "metadata": {},
   "source": [
    "sklearnの中のmodel_selectionからGridSearchCVをimportしましょう。"
   ]
  },
  {
   "cell_type": "code",
   "execution_count": 45,
   "metadata": {},
   "outputs": [],
   "source": [
    "## モジュールのインポート\n",
    "from sklearn.model_selection import GridSearchCV"
   ]
  },
  {
   "cell_type": "markdown",
   "metadata": {},
   "source": [
    "Grid SearchCVを用いる際には、下記3つを用意する必要があります。\n",
    "\n",
    " - estimator：使用する手法\n",
    " - param_grid：ハイパーパラメータの探索範囲\n",
    " - cv：データの分割数"
   ]
  },
  {
   "cell_type": "code",
   "execution_count": 46,
   "metadata": {},
   "outputs": [],
   "source": [
    "## DecisionTreeClasifirerを使用\n",
    "#estimator =  DecisionTreeClassifier()\n"
   ]
  },
  {
   "cell_type": "markdown",
   "metadata": {},
   "source": [
    "#### 決定木のハイパーパラーメータ\n",
    "\n",
    "決定木の主要なハイパーパラーメータとしては以下があります。\n",
    "\n",
    "- max_depth\t決定木の深さの最大、過学習を抑止する効果がある\n",
    "- min_samples_leaf　1つのノードに必要な最小のサンプル数\n",
    "\n",
    "※　詳細についてはsklearnの説明ページを参照ください。\n",
    "https://scikit-learn.org/stable/modules/generated/sklearn.tree.DecisionTreeClassifier.html\n",
    "\n",
    "上記2つのハイパーパラーメータの探索範囲として以下のよう値を選択します。\n",
    "各ハイパーパラーメータを辞書の**キー**として扱い、辞書の**値**に探索範囲をリスト形式で入れます。"
   ]
  },
  {
   "cell_type": "code",
   "execution_count": 47,
   "metadata": {},
   "outputs": [],
   "source": [
    "## チューニングするパラメータ\n",
    "param_grid = {'max_depth':  [1, 2, 3, 4, 5, 6, 7, 8, 9, 10],\n",
    "                    'min_samples_leaf': [100,200,500,1000]\n",
    "                   }"
   ]
  },
  {
   "cell_type": "markdown",
   "metadata": {},
   "source": [
    "クロスバリデーションを5分割しましょう。"
   ]
  },
  {
   "cell_type": "code",
   "execution_count": 48,
   "metadata": {},
   "outputs": [],
   "source": [
    "#cv = 5\n"
   ]
  },
  {
   "cell_type": "markdown",
   "metadata": {},
   "source": [
    "`GridSearchCV`を用いると、 `train` と `validation` は自動的に分割されます。 "
   ]
  },
  {
   "cell_type": "markdown",
   "metadata": {},
   "source": [
    "準備した各値を`GridSearchCV`に入れます。"
   ]
  },
  {
   "cell_type": "code",
   "execution_count": 49,
   "metadata": {},
   "outputs": [],
   "source": [
    "## モデルの定義\n",
    "#tuned_model = GridSearchCV(estimator = estimator , param_grid=param_grid, cv=cv, return_train_score=False)\n"
   ]
  },
  {
   "cell_type": "markdown",
   "metadata": {},
   "source": [
    "通常通り、`fit()`で学習させましょう。 **少し時間がかかります。少々お待ちください。**"
   ]
  },
  {
   "cell_type": "code",
   "execution_count": 16,
   "metadata": {
    "scrolled": true
   },
   "outputs": [],
   "source": [
    "## モデルの学習 ※少し時間がかかります。少々お待ちください。\n",
    "# tuned_model.fit(x_train, t_train)\n",
    "#tuned_model.fit(x_train,t_train)"
   ]
  },
  {
   "cell_type": "markdown",
   "metadata": {},
   "source": [
    "学習後、tuned_modelの中のcv_results_にクロスバリデーションを行った結果が入っていますので、pandasを用いて表形式で表示させてみましょう。"
   ]
  },
  {
   "cell_type": "code",
   "execution_count": 56,
   "metadata": {},
   "outputs": [
    {
     "data": {
      "text/html": [
       "<div>\n",
       "<style scoped>\n",
       "    .dataframe tbody tr th:only-of-type {\n",
       "        vertical-align: middle;\n",
       "    }\n",
       "\n",
       "    .dataframe tbody tr th {\n",
       "        vertical-align: top;\n",
       "    }\n",
       "\n",
       "    .dataframe thead th {\n",
       "        text-align: right;\n",
       "    }\n",
       "</style>\n",
       "<table border=\"1\" class=\"dataframe\">\n",
       "  <thead>\n",
       "    <tr style=\"text-align: right;\">\n",
       "      <th></th>\n",
       "      <th>0</th>\n",
       "      <th>1</th>\n",
       "      <th>2</th>\n",
       "      <th>3</th>\n",
       "      <th>4</th>\n",
       "      <th>5</th>\n",
       "      <th>6</th>\n",
       "      <th>7</th>\n",
       "      <th>8</th>\n",
       "      <th>9</th>\n",
       "      <th>...</th>\n",
       "      <th>30</th>\n",
       "      <th>31</th>\n",
       "      <th>32</th>\n",
       "      <th>33</th>\n",
       "      <th>34</th>\n",
       "      <th>35</th>\n",
       "      <th>36</th>\n",
       "      <th>37</th>\n",
       "      <th>38</th>\n",
       "      <th>39</th>\n",
       "    </tr>\n",
       "  </thead>\n",
       "  <tbody>\n",
       "    <tr>\n",
       "      <td>mean_fit_time</td>\n",
       "      <td>0.0536486</td>\n",
       "      <td>0.053662</td>\n",
       "      <td>0.0522643</td>\n",
       "      <td>0.0540466</td>\n",
       "      <td>0.0674244</td>\n",
       "      <td>0.0682091</td>\n",
       "      <td>0.0686257</td>\n",
       "      <td>0.0676203</td>\n",
       "      <td>0.0859686</td>\n",
       "      <td>0.0831556</td>\n",
       "      <td>...</td>\n",
       "      <td>0.132466</td>\n",
       "      <td>0.122463</td>\n",
       "      <td>0.15877</td>\n",
       "      <td>0.148822</td>\n",
       "      <td>0.13783</td>\n",
       "      <td>0.131654</td>\n",
       "      <td>0.185108</td>\n",
       "      <td>0.161781</td>\n",
       "      <td>0.14422</td>\n",
       "      <td>0.132652</td>\n",
       "    </tr>\n",
       "    <tr>\n",
       "      <td>std_fit_time</td>\n",
       "      <td>0.00316379</td>\n",
       "      <td>0.00144791</td>\n",
       "      <td>0.000795888</td>\n",
       "      <td>0.00171098</td>\n",
       "      <td>0.00136853</td>\n",
       "      <td>0.00173782</td>\n",
       "      <td>0.00158627</td>\n",
       "      <td>0.00147548</td>\n",
       "      <td>0.00405995</td>\n",
       "      <td>0.00202438</td>\n",
       "      <td>...</td>\n",
       "      <td>0.00182668</td>\n",
       "      <td>0.00202808</td>\n",
       "      <td>0.00442885</td>\n",
       "      <td>0.00146682</td>\n",
       "      <td>0.00212412</td>\n",
       "      <td>0.00260579</td>\n",
       "      <td>0.0140813</td>\n",
       "      <td>0.00846145</td>\n",
       "      <td>0.00896462</td>\n",
       "      <td>0.0103316</td>\n",
       "    </tr>\n",
       "    <tr>\n",
       "      <td>mean_score_time</td>\n",
       "      <td>0.013971</td>\n",
       "      <td>0.0125625</td>\n",
       "      <td>0.0125673</td>\n",
       "      <td>0.0121716</td>\n",
       "      <td>0.0127698</td>\n",
       "      <td>0.0133773</td>\n",
       "      <td>0.0129554</td>\n",
       "      <td>0.0127699</td>\n",
       "      <td>0.0129713</td>\n",
       "      <td>0.0129704</td>\n",
       "      <td>...</td>\n",
       "      <td>0.0123556</td>\n",
       "      <td>0.012975</td>\n",
       "      <td>0.013168</td>\n",
       "      <td>0.0127697</td>\n",
       "      <td>0.0129764</td>\n",
       "      <td>0.0143456</td>\n",
       "      <td>0.0155639</td>\n",
       "      <td>0.013356</td>\n",
       "      <td>0.013369</td>\n",
       "      <td>0.0133659</td>\n",
       "    </tr>\n",
       "    <tr>\n",
       "      <td>std_score_time</td>\n",
       "      <td>0.00302293</td>\n",
       "      <td>0.0004927</td>\n",
       "      <td>0.000487996</td>\n",
       "      <td>0.000396116</td>\n",
       "      <td>0.000396756</td>\n",
       "      <td>0.0013506</td>\n",
       "      <td>0.000616432</td>\n",
       "      <td>0.000399845</td>\n",
       "      <td>0.00156049</td>\n",
       "      <td>0.00106746</td>\n",
       "      <td>...</td>\n",
       "      <td>0.00049485</td>\n",
       "      <td>0.000639762</td>\n",
       "      <td>0.000393695</td>\n",
       "      <td>0.000394402</td>\n",
       "      <td>1.68165e-05</td>\n",
       "      <td>0.00172875</td>\n",
       "      <td>0.00324794</td>\n",
       "      <td>0.00101393</td>\n",
       "      <td>0.00148782</td>\n",
       "      <td>0.00183429</td>\n",
       "    </tr>\n",
       "    <tr>\n",
       "      <td>param_max_depth</td>\n",
       "      <td>1</td>\n",
       "      <td>1</td>\n",
       "      <td>1</td>\n",
       "      <td>1</td>\n",
       "      <td>2</td>\n",
       "      <td>2</td>\n",
       "      <td>2</td>\n",
       "      <td>2</td>\n",
       "      <td>3</td>\n",
       "      <td>3</td>\n",
       "      <td>...</td>\n",
       "      <td>8</td>\n",
       "      <td>8</td>\n",
       "      <td>9</td>\n",
       "      <td>9</td>\n",
       "      <td>9</td>\n",
       "      <td>9</td>\n",
       "      <td>10</td>\n",
       "      <td>10</td>\n",
       "      <td>10</td>\n",
       "      <td>10</td>\n",
       "    </tr>\n",
       "    <tr>\n",
       "      <td>param_min_samples_leaf</td>\n",
       "      <td>100</td>\n",
       "      <td>200</td>\n",
       "      <td>500</td>\n",
       "      <td>1000</td>\n",
       "      <td>100</td>\n",
       "      <td>200</td>\n",
       "      <td>500</td>\n",
       "      <td>1000</td>\n",
       "      <td>100</td>\n",
       "      <td>200</td>\n",
       "      <td>...</td>\n",
       "      <td>500</td>\n",
       "      <td>1000</td>\n",
       "      <td>100</td>\n",
       "      <td>200</td>\n",
       "      <td>500</td>\n",
       "      <td>1000</td>\n",
       "      <td>100</td>\n",
       "      <td>200</td>\n",
       "      <td>500</td>\n",
       "      <td>1000</td>\n",
       "    </tr>\n",
       "    <tr>\n",
       "      <td>params</td>\n",
       "      <td>{'max_depth': 1, 'min_samples_leaf': 100}</td>\n",
       "      <td>{'max_depth': 1, 'min_samples_leaf': 200}</td>\n",
       "      <td>{'max_depth': 1, 'min_samples_leaf': 500}</td>\n",
       "      <td>{'max_depth': 1, 'min_samples_leaf': 1000}</td>\n",
       "      <td>{'max_depth': 2, 'min_samples_leaf': 100}</td>\n",
       "      <td>{'max_depth': 2, 'min_samples_leaf': 200}</td>\n",
       "      <td>{'max_depth': 2, 'min_samples_leaf': 500}</td>\n",
       "      <td>{'max_depth': 2, 'min_samples_leaf': 1000}</td>\n",
       "      <td>{'max_depth': 3, 'min_samples_leaf': 100}</td>\n",
       "      <td>{'max_depth': 3, 'min_samples_leaf': 200}</td>\n",
       "      <td>...</td>\n",
       "      <td>{'max_depth': 8, 'min_samples_leaf': 500}</td>\n",
       "      <td>{'max_depth': 8, 'min_samples_leaf': 1000}</td>\n",
       "      <td>{'max_depth': 9, 'min_samples_leaf': 100}</td>\n",
       "      <td>{'max_depth': 9, 'min_samples_leaf': 200}</td>\n",
       "      <td>{'max_depth': 9, 'min_samples_leaf': 500}</td>\n",
       "      <td>{'max_depth': 9, 'min_samples_leaf': 1000}</td>\n",
       "      <td>{'max_depth': 10, 'min_samples_leaf': 100}</td>\n",
       "      <td>{'max_depth': 10, 'min_samples_leaf': 200}</td>\n",
       "      <td>{'max_depth': 10, 'min_samples_leaf': 500}</td>\n",
       "      <td>{'max_depth': 10, 'min_samples_leaf': 1000}</td>\n",
       "    </tr>\n",
       "    <tr>\n",
       "      <td>split0_test_score</td>\n",
       "      <td>0.888454</td>\n",
       "      <td>0.888454</td>\n",
       "      <td>0.888454</td>\n",
       "      <td>0.888454</td>\n",
       "      <td>0.905584</td>\n",
       "      <td>0.905584</td>\n",
       "      <td>0.905584</td>\n",
       "      <td>0.905584</td>\n",
       "      <td>0.911789</td>\n",
       "      <td>0.911789</td>\n",
       "      <td>...</td>\n",
       "      <td>0.915295</td>\n",
       "      <td>0.911789</td>\n",
       "      <td>0.915295</td>\n",
       "      <td>0.913272</td>\n",
       "      <td>0.915295</td>\n",
       "      <td>0.911789</td>\n",
       "      <td>0.915295</td>\n",
       "      <td>0.913272</td>\n",
       "      <td>0.915295</td>\n",
       "      <td>0.911789</td>\n",
       "    </tr>\n",
       "    <tr>\n",
       "      <td>split1_test_score</td>\n",
       "      <td>0.888454</td>\n",
       "      <td>0.888454</td>\n",
       "      <td>0.888454</td>\n",
       "      <td>0.888454</td>\n",
       "      <td>0.905719</td>\n",
       "      <td>0.905719</td>\n",
       "      <td>0.905719</td>\n",
       "      <td>0.905719</td>\n",
       "      <td>0.907877</td>\n",
       "      <td>0.907877</td>\n",
       "      <td>...</td>\n",
       "      <td>0.913947</td>\n",
       "      <td>0.907877</td>\n",
       "      <td>0.912598</td>\n",
       "      <td>0.912193</td>\n",
       "      <td>0.913947</td>\n",
       "      <td>0.907877</td>\n",
       "      <td>0.912058</td>\n",
       "      <td>0.912193</td>\n",
       "      <td>0.913947</td>\n",
       "      <td>0.907877</td>\n",
       "    </tr>\n",
       "    <tr>\n",
       "      <td>split2_test_score</td>\n",
       "      <td>0.888454</td>\n",
       "      <td>0.888454</td>\n",
       "      <td>0.888454</td>\n",
       "      <td>0.888454</td>\n",
       "      <td>0.902752</td>\n",
       "      <td>0.902752</td>\n",
       "      <td>0.902752</td>\n",
       "      <td>0.902752</td>\n",
       "      <td>0.908282</td>\n",
       "      <td>0.908282</td>\n",
       "      <td>...</td>\n",
       "      <td>0.912868</td>\n",
       "      <td>0.908282</td>\n",
       "      <td>0.911789</td>\n",
       "      <td>0.914351</td>\n",
       "      <td>0.912868</td>\n",
       "      <td>0.908282</td>\n",
       "      <td>0.911789</td>\n",
       "      <td>0.914351</td>\n",
       "      <td>0.912868</td>\n",
       "      <td>0.908282</td>\n",
       "    </tr>\n",
       "    <tr>\n",
       "      <td>split3_test_score</td>\n",
       "      <td>0.888454</td>\n",
       "      <td>0.888454</td>\n",
       "      <td>0.888454</td>\n",
       "      <td>0.888454</td>\n",
       "      <td>0.906933</td>\n",
       "      <td>0.906933</td>\n",
       "      <td>0.906933</td>\n",
       "      <td>0.906933</td>\n",
       "      <td>0.911923</td>\n",
       "      <td>0.911923</td>\n",
       "      <td>...</td>\n",
       "      <td>0.911923</td>\n",
       "      <td>0.911923</td>\n",
       "      <td>0.909496</td>\n",
       "      <td>0.911654</td>\n",
       "      <td>0.911923</td>\n",
       "      <td>0.911923</td>\n",
       "      <td>0.909496</td>\n",
       "      <td>0.911654</td>\n",
       "      <td>0.911923</td>\n",
       "      <td>0.911923</td>\n",
       "    </tr>\n",
       "    <tr>\n",
       "      <td>split4_test_score</td>\n",
       "      <td>0.888439</td>\n",
       "      <td>0.888439</td>\n",
       "      <td>0.888439</td>\n",
       "      <td>0.888439</td>\n",
       "      <td>0.90112</td>\n",
       "      <td>0.90112</td>\n",
       "      <td>0.90112</td>\n",
       "      <td>0.90112</td>\n",
       "      <td>0.905167</td>\n",
       "      <td>0.905167</td>\n",
       "      <td>...</td>\n",
       "      <td>0.908674</td>\n",
       "      <td>0.905301</td>\n",
       "      <td>0.90665</td>\n",
       "      <td>0.907865</td>\n",
       "      <td>0.908674</td>\n",
       "      <td>0.905301</td>\n",
       "      <td>0.90665</td>\n",
       "      <td>0.907865</td>\n",
       "      <td>0.908674</td>\n",
       "      <td>0.905301</td>\n",
       "    </tr>\n",
       "    <tr>\n",
       "      <td>mean_test_score</td>\n",
       "      <td>0.888451</td>\n",
       "      <td>0.888451</td>\n",
       "      <td>0.888451</td>\n",
       "      <td>0.888451</td>\n",
       "      <td>0.904421</td>\n",
       "      <td>0.904421</td>\n",
       "      <td>0.904421</td>\n",
       "      <td>0.904421</td>\n",
       "      <td>0.909007</td>\n",
       "      <td>0.909007</td>\n",
       "      <td>...</td>\n",
       "      <td>0.912541</td>\n",
       "      <td>0.909034</td>\n",
       "      <td>0.911166</td>\n",
       "      <td>0.911867</td>\n",
       "      <td>0.912541</td>\n",
       "      <td>0.909034</td>\n",
       "      <td>0.911058</td>\n",
       "      <td>0.911867</td>\n",
       "      <td>0.912541</td>\n",
       "      <td>0.909034</td>\n",
       "    </tr>\n",
       "    <tr>\n",
       "      <td>std_test_score</td>\n",
       "      <td>6.01892e-06</td>\n",
       "      <td>6.01892e-06</td>\n",
       "      <td>6.01892e-06</td>\n",
       "      <td>6.01892e-06</td>\n",
       "      <td>0.00214627</td>\n",
       "      <td>0.00214627</td>\n",
       "      <td>0.00214627</td>\n",
       "      <td>0.00214627</td>\n",
       "      <td>0.00256101</td>\n",
       "      <td>0.00256101</td>\n",
       "      <td>...</td>\n",
       "      <td>0.00223627</td>\n",
       "      <td>0.0025208</td>\n",
       "      <td>0.00292129</td>\n",
       "      <td>0.00220533</td>\n",
       "      <td>0.00223627</td>\n",
       "      <td>0.0025208</td>\n",
       "      <td>0.00287601</td>\n",
       "      <td>0.00220533</td>\n",
       "      <td>0.00223627</td>\n",
       "      <td>0.0025208</td>\n",
       "    </tr>\n",
       "    <tr>\n",
       "      <td>rank_test_score</td>\n",
       "      <td>37</td>\n",
       "      <td>37</td>\n",
       "      <td>37</td>\n",
       "      <td>37</td>\n",
       "      <td>33</td>\n",
       "      <td>33</td>\n",
       "      <td>33</td>\n",
       "      <td>33</td>\n",
       "      <td>30</td>\n",
       "      <td>30</td>\n",
       "      <td>...</td>\n",
       "      <td>2</td>\n",
       "      <td>22</td>\n",
       "      <td>19</td>\n",
       "      <td>12</td>\n",
       "      <td>2</td>\n",
       "      <td>22</td>\n",
       "      <td>21</td>\n",
       "      <td>12</td>\n",
       "      <td>2</td>\n",
       "      <td>22</td>\n",
       "    </tr>\n",
       "  </tbody>\n",
       "</table>\n",
       "<p>15 rows × 40 columns</p>\n",
       "</div>"
      ],
      "text/plain": [
       "                                                               0   \\\n",
       "mean_fit_time                                           0.0536486   \n",
       "std_fit_time                                           0.00316379   \n",
       "mean_score_time                                          0.013971   \n",
       "std_score_time                                         0.00302293   \n",
       "param_max_depth                                                 1   \n",
       "param_min_samples_leaf                                        100   \n",
       "params                  {'max_depth': 1, 'min_samples_leaf': 100}   \n",
       "split0_test_score                                        0.888454   \n",
       "split1_test_score                                        0.888454   \n",
       "split2_test_score                                        0.888454   \n",
       "split3_test_score                                        0.888454   \n",
       "split4_test_score                                        0.888439   \n",
       "mean_test_score                                          0.888451   \n",
       "std_test_score                                        6.01892e-06   \n",
       "rank_test_score                                                37   \n",
       "\n",
       "                                                               1   \\\n",
       "mean_fit_time                                            0.053662   \n",
       "std_fit_time                                           0.00144791   \n",
       "mean_score_time                                         0.0125625   \n",
       "std_score_time                                          0.0004927   \n",
       "param_max_depth                                                 1   \n",
       "param_min_samples_leaf                                        200   \n",
       "params                  {'max_depth': 1, 'min_samples_leaf': 200}   \n",
       "split0_test_score                                        0.888454   \n",
       "split1_test_score                                        0.888454   \n",
       "split2_test_score                                        0.888454   \n",
       "split3_test_score                                        0.888454   \n",
       "split4_test_score                                        0.888439   \n",
       "mean_test_score                                          0.888451   \n",
       "std_test_score                                        6.01892e-06   \n",
       "rank_test_score                                                37   \n",
       "\n",
       "                                                               2   \\\n",
       "mean_fit_time                                           0.0522643   \n",
       "std_fit_time                                          0.000795888   \n",
       "mean_score_time                                         0.0125673   \n",
       "std_score_time                                        0.000487996   \n",
       "param_max_depth                                                 1   \n",
       "param_min_samples_leaf                                        500   \n",
       "params                  {'max_depth': 1, 'min_samples_leaf': 500}   \n",
       "split0_test_score                                        0.888454   \n",
       "split1_test_score                                        0.888454   \n",
       "split2_test_score                                        0.888454   \n",
       "split3_test_score                                        0.888454   \n",
       "split4_test_score                                        0.888439   \n",
       "mean_test_score                                          0.888451   \n",
       "std_test_score                                        6.01892e-06   \n",
       "rank_test_score                                                37   \n",
       "\n",
       "                                                                3   \\\n",
       "mean_fit_time                                            0.0540466   \n",
       "std_fit_time                                            0.00171098   \n",
       "mean_score_time                                          0.0121716   \n",
       "std_score_time                                         0.000396116   \n",
       "param_max_depth                                                  1   \n",
       "param_min_samples_leaf                                        1000   \n",
       "params                  {'max_depth': 1, 'min_samples_leaf': 1000}   \n",
       "split0_test_score                                         0.888454   \n",
       "split1_test_score                                         0.888454   \n",
       "split2_test_score                                         0.888454   \n",
       "split3_test_score                                         0.888454   \n",
       "split4_test_score                                         0.888439   \n",
       "mean_test_score                                           0.888451   \n",
       "std_test_score                                         6.01892e-06   \n",
       "rank_test_score                                                 37   \n",
       "\n",
       "                                                               4   \\\n",
       "mean_fit_time                                           0.0674244   \n",
       "std_fit_time                                           0.00136853   \n",
       "mean_score_time                                         0.0127698   \n",
       "std_score_time                                        0.000396756   \n",
       "param_max_depth                                                 2   \n",
       "param_min_samples_leaf                                        100   \n",
       "params                  {'max_depth': 2, 'min_samples_leaf': 100}   \n",
       "split0_test_score                                        0.905584   \n",
       "split1_test_score                                        0.905719   \n",
       "split2_test_score                                        0.902752   \n",
       "split3_test_score                                        0.906933   \n",
       "split4_test_score                                         0.90112   \n",
       "mean_test_score                                          0.904421   \n",
       "std_test_score                                         0.00214627   \n",
       "rank_test_score                                                33   \n",
       "\n",
       "                                                               5   \\\n",
       "mean_fit_time                                           0.0682091   \n",
       "std_fit_time                                           0.00173782   \n",
       "mean_score_time                                         0.0133773   \n",
       "std_score_time                                          0.0013506   \n",
       "param_max_depth                                                 2   \n",
       "param_min_samples_leaf                                        200   \n",
       "params                  {'max_depth': 2, 'min_samples_leaf': 200}   \n",
       "split0_test_score                                        0.905584   \n",
       "split1_test_score                                        0.905719   \n",
       "split2_test_score                                        0.902752   \n",
       "split3_test_score                                        0.906933   \n",
       "split4_test_score                                         0.90112   \n",
       "mean_test_score                                          0.904421   \n",
       "std_test_score                                         0.00214627   \n",
       "rank_test_score                                                33   \n",
       "\n",
       "                                                               6   \\\n",
       "mean_fit_time                                           0.0686257   \n",
       "std_fit_time                                           0.00158627   \n",
       "mean_score_time                                         0.0129554   \n",
       "std_score_time                                        0.000616432   \n",
       "param_max_depth                                                 2   \n",
       "param_min_samples_leaf                                        500   \n",
       "params                  {'max_depth': 2, 'min_samples_leaf': 500}   \n",
       "split0_test_score                                        0.905584   \n",
       "split1_test_score                                        0.905719   \n",
       "split2_test_score                                        0.902752   \n",
       "split3_test_score                                        0.906933   \n",
       "split4_test_score                                         0.90112   \n",
       "mean_test_score                                          0.904421   \n",
       "std_test_score                                         0.00214627   \n",
       "rank_test_score                                                33   \n",
       "\n",
       "                                                                7   \\\n",
       "mean_fit_time                                            0.0676203   \n",
       "std_fit_time                                            0.00147548   \n",
       "mean_score_time                                          0.0127699   \n",
       "std_score_time                                         0.000399845   \n",
       "param_max_depth                                                  2   \n",
       "param_min_samples_leaf                                        1000   \n",
       "params                  {'max_depth': 2, 'min_samples_leaf': 1000}   \n",
       "split0_test_score                                         0.905584   \n",
       "split1_test_score                                         0.905719   \n",
       "split2_test_score                                         0.902752   \n",
       "split3_test_score                                         0.906933   \n",
       "split4_test_score                                          0.90112   \n",
       "mean_test_score                                           0.904421   \n",
       "std_test_score                                          0.00214627   \n",
       "rank_test_score                                                 33   \n",
       "\n",
       "                                                               8   \\\n",
       "mean_fit_time                                           0.0859686   \n",
       "std_fit_time                                           0.00405995   \n",
       "mean_score_time                                         0.0129713   \n",
       "std_score_time                                         0.00156049   \n",
       "param_max_depth                                                 3   \n",
       "param_min_samples_leaf                                        100   \n",
       "params                  {'max_depth': 3, 'min_samples_leaf': 100}   \n",
       "split0_test_score                                        0.911789   \n",
       "split1_test_score                                        0.907877   \n",
       "split2_test_score                                        0.908282   \n",
       "split3_test_score                                        0.911923   \n",
       "split4_test_score                                        0.905167   \n",
       "mean_test_score                                          0.909007   \n",
       "std_test_score                                         0.00256101   \n",
       "rank_test_score                                                30   \n",
       "\n",
       "                                                               9   ...  \\\n",
       "mean_fit_time                                           0.0831556  ...   \n",
       "std_fit_time                                           0.00202438  ...   \n",
       "mean_score_time                                         0.0129704  ...   \n",
       "std_score_time                                         0.00106746  ...   \n",
       "param_max_depth                                                 3  ...   \n",
       "param_min_samples_leaf                                        200  ...   \n",
       "params                  {'max_depth': 3, 'min_samples_leaf': 200}  ...   \n",
       "split0_test_score                                        0.911789  ...   \n",
       "split1_test_score                                        0.907877  ...   \n",
       "split2_test_score                                        0.908282  ...   \n",
       "split3_test_score                                        0.911923  ...   \n",
       "split4_test_score                                        0.905167  ...   \n",
       "mean_test_score                                          0.909007  ...   \n",
       "std_test_score                                         0.00256101  ...   \n",
       "rank_test_score                                                30  ...   \n",
       "\n",
       "                                                               30  \\\n",
       "mean_fit_time                                            0.132466   \n",
       "std_fit_time                                           0.00182668   \n",
       "mean_score_time                                         0.0123556   \n",
       "std_score_time                                         0.00049485   \n",
       "param_max_depth                                                 8   \n",
       "param_min_samples_leaf                                        500   \n",
       "params                  {'max_depth': 8, 'min_samples_leaf': 500}   \n",
       "split0_test_score                                        0.915295   \n",
       "split1_test_score                                        0.913947   \n",
       "split2_test_score                                        0.912868   \n",
       "split3_test_score                                        0.911923   \n",
       "split4_test_score                                        0.908674   \n",
       "mean_test_score                                          0.912541   \n",
       "std_test_score                                         0.00223627   \n",
       "rank_test_score                                                 2   \n",
       "\n",
       "                                                                31  \\\n",
       "mean_fit_time                                             0.122463   \n",
       "std_fit_time                                            0.00202808   \n",
       "mean_score_time                                           0.012975   \n",
       "std_score_time                                         0.000639762   \n",
       "param_max_depth                                                  8   \n",
       "param_min_samples_leaf                                        1000   \n",
       "params                  {'max_depth': 8, 'min_samples_leaf': 1000}   \n",
       "split0_test_score                                         0.911789   \n",
       "split1_test_score                                         0.907877   \n",
       "split2_test_score                                         0.908282   \n",
       "split3_test_score                                         0.911923   \n",
       "split4_test_score                                         0.905301   \n",
       "mean_test_score                                           0.909034   \n",
       "std_test_score                                           0.0025208   \n",
       "rank_test_score                                                 22   \n",
       "\n",
       "                                                               32  \\\n",
       "mean_fit_time                                             0.15877   \n",
       "std_fit_time                                           0.00442885   \n",
       "mean_score_time                                          0.013168   \n",
       "std_score_time                                        0.000393695   \n",
       "param_max_depth                                                 9   \n",
       "param_min_samples_leaf                                        100   \n",
       "params                  {'max_depth': 9, 'min_samples_leaf': 100}   \n",
       "split0_test_score                                        0.915295   \n",
       "split1_test_score                                        0.912598   \n",
       "split2_test_score                                        0.911789   \n",
       "split3_test_score                                        0.909496   \n",
       "split4_test_score                                         0.90665   \n",
       "mean_test_score                                          0.911166   \n",
       "std_test_score                                         0.00292129   \n",
       "rank_test_score                                                19   \n",
       "\n",
       "                                                               33  \\\n",
       "mean_fit_time                                            0.148822   \n",
       "std_fit_time                                           0.00146682   \n",
       "mean_score_time                                         0.0127697   \n",
       "std_score_time                                        0.000394402   \n",
       "param_max_depth                                                 9   \n",
       "param_min_samples_leaf                                        200   \n",
       "params                  {'max_depth': 9, 'min_samples_leaf': 200}   \n",
       "split0_test_score                                        0.913272   \n",
       "split1_test_score                                        0.912193   \n",
       "split2_test_score                                        0.914351   \n",
       "split3_test_score                                        0.911654   \n",
       "split4_test_score                                        0.907865   \n",
       "mean_test_score                                          0.911867   \n",
       "std_test_score                                         0.00220533   \n",
       "rank_test_score                                                12   \n",
       "\n",
       "                                                               34  \\\n",
       "mean_fit_time                                             0.13783   \n",
       "std_fit_time                                           0.00212412   \n",
       "mean_score_time                                         0.0129764   \n",
       "std_score_time                                        1.68165e-05   \n",
       "param_max_depth                                                 9   \n",
       "param_min_samples_leaf                                        500   \n",
       "params                  {'max_depth': 9, 'min_samples_leaf': 500}   \n",
       "split0_test_score                                        0.915295   \n",
       "split1_test_score                                        0.913947   \n",
       "split2_test_score                                        0.912868   \n",
       "split3_test_score                                        0.911923   \n",
       "split4_test_score                                        0.908674   \n",
       "mean_test_score                                          0.912541   \n",
       "std_test_score                                         0.00223627   \n",
       "rank_test_score                                                 2   \n",
       "\n",
       "                                                                35  \\\n",
       "mean_fit_time                                             0.131654   \n",
       "std_fit_time                                            0.00260579   \n",
       "mean_score_time                                          0.0143456   \n",
       "std_score_time                                          0.00172875   \n",
       "param_max_depth                                                  9   \n",
       "param_min_samples_leaf                                        1000   \n",
       "params                  {'max_depth': 9, 'min_samples_leaf': 1000}   \n",
       "split0_test_score                                         0.911789   \n",
       "split1_test_score                                         0.907877   \n",
       "split2_test_score                                         0.908282   \n",
       "split3_test_score                                         0.911923   \n",
       "split4_test_score                                         0.905301   \n",
       "mean_test_score                                           0.909034   \n",
       "std_test_score                                           0.0025208   \n",
       "rank_test_score                                                 22   \n",
       "\n",
       "                                                                36  \\\n",
       "mean_fit_time                                             0.185108   \n",
       "std_fit_time                                             0.0140813   \n",
       "mean_score_time                                          0.0155639   \n",
       "std_score_time                                          0.00324794   \n",
       "param_max_depth                                                 10   \n",
       "param_min_samples_leaf                                         100   \n",
       "params                  {'max_depth': 10, 'min_samples_leaf': 100}   \n",
       "split0_test_score                                         0.915295   \n",
       "split1_test_score                                         0.912058   \n",
       "split2_test_score                                         0.911789   \n",
       "split3_test_score                                         0.909496   \n",
       "split4_test_score                                          0.90665   \n",
       "mean_test_score                                           0.911058   \n",
       "std_test_score                                          0.00287601   \n",
       "rank_test_score                                                 21   \n",
       "\n",
       "                                                                37  \\\n",
       "mean_fit_time                                             0.161781   \n",
       "std_fit_time                                            0.00846145   \n",
       "mean_score_time                                           0.013356   \n",
       "std_score_time                                          0.00101393   \n",
       "param_max_depth                                                 10   \n",
       "param_min_samples_leaf                                         200   \n",
       "params                  {'max_depth': 10, 'min_samples_leaf': 200}   \n",
       "split0_test_score                                         0.913272   \n",
       "split1_test_score                                         0.912193   \n",
       "split2_test_score                                         0.914351   \n",
       "split3_test_score                                         0.911654   \n",
       "split4_test_score                                         0.907865   \n",
       "mean_test_score                                           0.911867   \n",
       "std_test_score                                          0.00220533   \n",
       "rank_test_score                                                 12   \n",
       "\n",
       "                                                                38  \\\n",
       "mean_fit_time                                              0.14422   \n",
       "std_fit_time                                            0.00896462   \n",
       "mean_score_time                                           0.013369   \n",
       "std_score_time                                          0.00148782   \n",
       "param_max_depth                                                 10   \n",
       "param_min_samples_leaf                                         500   \n",
       "params                  {'max_depth': 10, 'min_samples_leaf': 500}   \n",
       "split0_test_score                                         0.915295   \n",
       "split1_test_score                                         0.913947   \n",
       "split2_test_score                                         0.912868   \n",
       "split3_test_score                                         0.911923   \n",
       "split4_test_score                                         0.908674   \n",
       "mean_test_score                                           0.912541   \n",
       "std_test_score                                          0.00223627   \n",
       "rank_test_score                                                  2   \n",
       "\n",
       "                                                                 39  \n",
       "mean_fit_time                                              0.132652  \n",
       "std_fit_time                                              0.0103316  \n",
       "mean_score_time                                           0.0133659  \n",
       "std_score_time                                           0.00183429  \n",
       "param_max_depth                                                  10  \n",
       "param_min_samples_leaf                                         1000  \n",
       "params                  {'max_depth': 10, 'min_samples_leaf': 1000}  \n",
       "split0_test_score                                          0.911789  \n",
       "split1_test_score                                          0.907877  \n",
       "split2_test_score                                          0.908282  \n",
       "split3_test_score                                          0.911923  \n",
       "split4_test_score                                          0.905301  \n",
       "mean_test_score                                            0.909034  \n",
       "std_test_score                                            0.0025208  \n",
       "rank_test_score                                                  22  \n",
       "\n",
       "[15 rows x 40 columns]"
      ]
     },
     "execution_count": 56,
     "metadata": {},
     "output_type": "execute_result"
    }
   ],
   "source": [
    "## モデルの検証結果をデータフレームにします。\n",
    "df_cv = pd.DataFrame(tuned_model.cv_results_)\n",
    "## 見にくいので行列転置します。\n",
    "df_cv.T"
   ]
  },
  {
   "cell_type": "code",
   "execution_count": 57,
   "metadata": {},
   "outputs": [
    {
     "data": {
      "text/html": [
       "<div>\n",
       "<style scoped>\n",
       "    .dataframe tbody tr th:only-of-type {\n",
       "        vertical-align: middle;\n",
       "    }\n",
       "\n",
       "    .dataframe tbody tr th {\n",
       "        vertical-align: top;\n",
       "    }\n",
       "\n",
       "    .dataframe thead th {\n",
       "        text-align: right;\n",
       "    }\n",
       "</style>\n",
       "<table border=\"1\" class=\"dataframe\">\n",
       "  <thead>\n",
       "    <tr style=\"text-align: right;\">\n",
       "      <th></th>\n",
       "      <th>12</th>\n",
       "      <th>16</th>\n",
       "      <th>17</th>\n",
       "      <th>18</th>\n",
       "      <th>20</th>\n",
       "      <th>22</th>\n",
       "      <th>26</th>\n",
       "      <th>30</th>\n",
       "      <th>34</th>\n",
       "      <th>38</th>\n",
       "    </tr>\n",
       "  </thead>\n",
       "  <tbody>\n",
       "    <tr>\n",
       "      <td>mean_fit_time</td>\n",
       "      <td>0.0987337</td>\n",
       "      <td>0.130656</td>\n",
       "      <td>0.121077</td>\n",
       "      <td>0.109508</td>\n",
       "      <td>0.127693</td>\n",
       "      <td>0.117803</td>\n",
       "      <td>0.127674</td>\n",
       "      <td>0.132466</td>\n",
       "      <td>0.13783</td>\n",
       "      <td>0.14422</td>\n",
       "    </tr>\n",
       "    <tr>\n",
       "      <td>std_fit_time</td>\n",
       "      <td>0.00258831</td>\n",
       "      <td>0.0132774</td>\n",
       "      <td>0.00949507</td>\n",
       "      <td>0.00525503</td>\n",
       "      <td>0.00122496</td>\n",
       "      <td>0.00229325</td>\n",
       "      <td>0.00340255</td>\n",
       "      <td>0.00182668</td>\n",
       "      <td>0.00212412</td>\n",
       "      <td>0.00896462</td>\n",
       "    </tr>\n",
       "    <tr>\n",
       "      <td>mean_score_time</td>\n",
       "      <td>0.0121858</td>\n",
       "      <td>0.0149538</td>\n",
       "      <td>0.0129653</td>\n",
       "      <td>0.0129645</td>\n",
       "      <td>0.0130084</td>\n",
       "      <td>0.0125727</td>\n",
       "      <td>0.0127667</td>\n",
       "      <td>0.0123556</td>\n",
       "      <td>0.0129764</td>\n",
       "      <td>0.013369</td>\n",
       "    </tr>\n",
       "    <tr>\n",
       "      <td>std_score_time</td>\n",
       "      <td>0.000407097</td>\n",
       "      <td>0.00141055</td>\n",
       "      <td>0.000892924</td>\n",
       "      <td>0.0006306</td>\n",
       "      <td>0.000654083</td>\n",
       "      <td>0.000491509</td>\n",
       "      <td>0.000390721</td>\n",
       "      <td>0.00049485</td>\n",
       "      <td>1.68165e-05</td>\n",
       "      <td>0.00148782</td>\n",
       "    </tr>\n",
       "    <tr>\n",
       "      <td>param_max_depth</td>\n",
       "      <td>4</td>\n",
       "      <td>5</td>\n",
       "      <td>5</td>\n",
       "      <td>5</td>\n",
       "      <td>6</td>\n",
       "      <td>6</td>\n",
       "      <td>7</td>\n",
       "      <td>8</td>\n",
       "      <td>9</td>\n",
       "      <td>10</td>\n",
       "    </tr>\n",
       "    <tr>\n",
       "      <td>param_min_samples_leaf</td>\n",
       "      <td>100</td>\n",
       "      <td>100</td>\n",
       "      <td>200</td>\n",
       "      <td>500</td>\n",
       "      <td>100</td>\n",
       "      <td>500</td>\n",
       "      <td>500</td>\n",
       "      <td>500</td>\n",
       "      <td>500</td>\n",
       "      <td>500</td>\n",
       "    </tr>\n",
       "    <tr>\n",
       "      <td>params</td>\n",
       "      <td>{'max_depth': 4, 'min_samples_leaf': 100}</td>\n",
       "      <td>{'max_depth': 5, 'min_samples_leaf': 100}</td>\n",
       "      <td>{'max_depth': 5, 'min_samples_leaf': 200}</td>\n",
       "      <td>{'max_depth': 5, 'min_samples_leaf': 500}</td>\n",
       "      <td>{'max_depth': 6, 'min_samples_leaf': 100}</td>\n",
       "      <td>{'max_depth': 6, 'min_samples_leaf': 500}</td>\n",
       "      <td>{'max_depth': 7, 'min_samples_leaf': 500}</td>\n",
       "      <td>{'max_depth': 8, 'min_samples_leaf': 500}</td>\n",
       "      <td>{'max_depth': 9, 'min_samples_leaf': 500}</td>\n",
       "      <td>{'max_depth': 10, 'min_samples_leaf': 500}</td>\n",
       "    </tr>\n",
       "    <tr>\n",
       "      <td>split0_test_score</td>\n",
       "      <td>0.915161</td>\n",
       "      <td>0.916374</td>\n",
       "      <td>0.915161</td>\n",
       "      <td>0.915295</td>\n",
       "      <td>0.917723</td>\n",
       "      <td>0.915295</td>\n",
       "      <td>0.915295</td>\n",
       "      <td>0.915295</td>\n",
       "      <td>0.915295</td>\n",
       "      <td>0.915295</td>\n",
       "    </tr>\n",
       "    <tr>\n",
       "      <td>split1_test_score</td>\n",
       "      <td>0.910709</td>\n",
       "      <td>0.912328</td>\n",
       "      <td>0.913272</td>\n",
       "      <td>0.913947</td>\n",
       "      <td>0.911519</td>\n",
       "      <td>0.913947</td>\n",
       "      <td>0.913947</td>\n",
       "      <td>0.913947</td>\n",
       "      <td>0.913947</td>\n",
       "      <td>0.913947</td>\n",
       "    </tr>\n",
       "    <tr>\n",
       "      <td>split2_test_score</td>\n",
       "      <td>0.912733</td>\n",
       "      <td>0.914891</td>\n",
       "      <td>0.912733</td>\n",
       "      <td>0.912868</td>\n",
       "      <td>0.913137</td>\n",
       "      <td>0.912868</td>\n",
       "      <td>0.912868</td>\n",
       "      <td>0.912868</td>\n",
       "      <td>0.912868</td>\n",
       "      <td>0.912868</td>\n",
       "    </tr>\n",
       "    <tr>\n",
       "      <td>split3_test_score</td>\n",
       "      <td>0.912733</td>\n",
       "      <td>0.912463</td>\n",
       "      <td>0.911654</td>\n",
       "      <td>0.911923</td>\n",
       "      <td>0.911789</td>\n",
       "      <td>0.911923</td>\n",
       "      <td>0.911923</td>\n",
       "      <td>0.911923</td>\n",
       "      <td>0.911923</td>\n",
       "      <td>0.911923</td>\n",
       "    </tr>\n",
       "    <tr>\n",
       "      <td>split4_test_score</td>\n",
       "      <td>0.908944</td>\n",
       "      <td>0.909618</td>\n",
       "      <td>0.908134</td>\n",
       "      <td>0.908674</td>\n",
       "      <td>0.907595</td>\n",
       "      <td>0.908674</td>\n",
       "      <td>0.908674</td>\n",
       "      <td>0.908674</td>\n",
       "      <td>0.908674</td>\n",
       "      <td>0.908674</td>\n",
       "    </tr>\n",
       "    <tr>\n",
       "      <td>mean_test_score</td>\n",
       "      <td>0.912056</td>\n",
       "      <td>0.913135</td>\n",
       "      <td>0.912191</td>\n",
       "      <td>0.912541</td>\n",
       "      <td>0.912353</td>\n",
       "      <td>0.912541</td>\n",
       "      <td>0.912541</td>\n",
       "      <td>0.912541</td>\n",
       "      <td>0.912541</td>\n",
       "      <td>0.912541</td>\n",
       "    </tr>\n",
       "    <tr>\n",
       "      <td>std_test_score</td>\n",
       "      <td>0.00210014</td>\n",
       "      <td>0.00232581</td>\n",
       "      <td>0.00232489</td>\n",
       "      <td>0.00223627</td>\n",
       "      <td>0.00325914</td>\n",
       "      <td>0.00223627</td>\n",
       "      <td>0.00223627</td>\n",
       "      <td>0.00223627</td>\n",
       "      <td>0.00223627</td>\n",
       "      <td>0.00223627</td>\n",
       "    </tr>\n",
       "    <tr>\n",
       "      <td>rank_test_score</td>\n",
       "      <td>10</td>\n",
       "      <td>1</td>\n",
       "      <td>9</td>\n",
       "      <td>2</td>\n",
       "      <td>8</td>\n",
       "      <td>2</td>\n",
       "      <td>2</td>\n",
       "      <td>2</td>\n",
       "      <td>2</td>\n",
       "      <td>2</td>\n",
       "    </tr>\n",
       "  </tbody>\n",
       "</table>\n",
       "</div>"
      ],
      "text/plain": [
       "                                                               12  \\\n",
       "mean_fit_time                                           0.0987337   \n",
       "std_fit_time                                           0.00258831   \n",
       "mean_score_time                                         0.0121858   \n",
       "std_score_time                                        0.000407097   \n",
       "param_max_depth                                                 4   \n",
       "param_min_samples_leaf                                        100   \n",
       "params                  {'max_depth': 4, 'min_samples_leaf': 100}   \n",
       "split0_test_score                                        0.915161   \n",
       "split1_test_score                                        0.910709   \n",
       "split2_test_score                                        0.912733   \n",
       "split3_test_score                                        0.912733   \n",
       "split4_test_score                                        0.908944   \n",
       "mean_test_score                                          0.912056   \n",
       "std_test_score                                         0.00210014   \n",
       "rank_test_score                                                10   \n",
       "\n",
       "                                                               16  \\\n",
       "mean_fit_time                                            0.130656   \n",
       "std_fit_time                                            0.0132774   \n",
       "mean_score_time                                         0.0149538   \n",
       "std_score_time                                         0.00141055   \n",
       "param_max_depth                                                 5   \n",
       "param_min_samples_leaf                                        100   \n",
       "params                  {'max_depth': 5, 'min_samples_leaf': 100}   \n",
       "split0_test_score                                        0.916374   \n",
       "split1_test_score                                        0.912328   \n",
       "split2_test_score                                        0.914891   \n",
       "split3_test_score                                        0.912463   \n",
       "split4_test_score                                        0.909618   \n",
       "mean_test_score                                          0.913135   \n",
       "std_test_score                                         0.00232581   \n",
       "rank_test_score                                                 1   \n",
       "\n",
       "                                                               17  \\\n",
       "mean_fit_time                                            0.121077   \n",
       "std_fit_time                                           0.00949507   \n",
       "mean_score_time                                         0.0129653   \n",
       "std_score_time                                        0.000892924   \n",
       "param_max_depth                                                 5   \n",
       "param_min_samples_leaf                                        200   \n",
       "params                  {'max_depth': 5, 'min_samples_leaf': 200}   \n",
       "split0_test_score                                        0.915161   \n",
       "split1_test_score                                        0.913272   \n",
       "split2_test_score                                        0.912733   \n",
       "split3_test_score                                        0.911654   \n",
       "split4_test_score                                        0.908134   \n",
       "mean_test_score                                          0.912191   \n",
       "std_test_score                                         0.00232489   \n",
       "rank_test_score                                                 9   \n",
       "\n",
       "                                                               18  \\\n",
       "mean_fit_time                                            0.109508   \n",
       "std_fit_time                                           0.00525503   \n",
       "mean_score_time                                         0.0129645   \n",
       "std_score_time                                          0.0006306   \n",
       "param_max_depth                                                 5   \n",
       "param_min_samples_leaf                                        500   \n",
       "params                  {'max_depth': 5, 'min_samples_leaf': 500}   \n",
       "split0_test_score                                        0.915295   \n",
       "split1_test_score                                        0.913947   \n",
       "split2_test_score                                        0.912868   \n",
       "split3_test_score                                        0.911923   \n",
       "split4_test_score                                        0.908674   \n",
       "mean_test_score                                          0.912541   \n",
       "std_test_score                                         0.00223627   \n",
       "rank_test_score                                                 2   \n",
       "\n",
       "                                                               20  \\\n",
       "mean_fit_time                                            0.127693   \n",
       "std_fit_time                                           0.00122496   \n",
       "mean_score_time                                         0.0130084   \n",
       "std_score_time                                        0.000654083   \n",
       "param_max_depth                                                 6   \n",
       "param_min_samples_leaf                                        100   \n",
       "params                  {'max_depth': 6, 'min_samples_leaf': 100}   \n",
       "split0_test_score                                        0.917723   \n",
       "split1_test_score                                        0.911519   \n",
       "split2_test_score                                        0.913137   \n",
       "split3_test_score                                        0.911789   \n",
       "split4_test_score                                        0.907595   \n",
       "mean_test_score                                          0.912353   \n",
       "std_test_score                                         0.00325914   \n",
       "rank_test_score                                                 8   \n",
       "\n",
       "                                                               22  \\\n",
       "mean_fit_time                                            0.117803   \n",
       "std_fit_time                                           0.00229325   \n",
       "mean_score_time                                         0.0125727   \n",
       "std_score_time                                        0.000491509   \n",
       "param_max_depth                                                 6   \n",
       "param_min_samples_leaf                                        500   \n",
       "params                  {'max_depth': 6, 'min_samples_leaf': 500}   \n",
       "split0_test_score                                        0.915295   \n",
       "split1_test_score                                        0.913947   \n",
       "split2_test_score                                        0.912868   \n",
       "split3_test_score                                        0.911923   \n",
       "split4_test_score                                        0.908674   \n",
       "mean_test_score                                          0.912541   \n",
       "std_test_score                                         0.00223627   \n",
       "rank_test_score                                                 2   \n",
       "\n",
       "                                                               26  \\\n",
       "mean_fit_time                                            0.127674   \n",
       "std_fit_time                                           0.00340255   \n",
       "mean_score_time                                         0.0127667   \n",
       "std_score_time                                        0.000390721   \n",
       "param_max_depth                                                 7   \n",
       "param_min_samples_leaf                                        500   \n",
       "params                  {'max_depth': 7, 'min_samples_leaf': 500}   \n",
       "split0_test_score                                        0.915295   \n",
       "split1_test_score                                        0.913947   \n",
       "split2_test_score                                        0.912868   \n",
       "split3_test_score                                        0.911923   \n",
       "split4_test_score                                        0.908674   \n",
       "mean_test_score                                          0.912541   \n",
       "std_test_score                                         0.00223627   \n",
       "rank_test_score                                                 2   \n",
       "\n",
       "                                                               30  \\\n",
       "mean_fit_time                                            0.132466   \n",
       "std_fit_time                                           0.00182668   \n",
       "mean_score_time                                         0.0123556   \n",
       "std_score_time                                         0.00049485   \n",
       "param_max_depth                                                 8   \n",
       "param_min_samples_leaf                                        500   \n",
       "params                  {'max_depth': 8, 'min_samples_leaf': 500}   \n",
       "split0_test_score                                        0.915295   \n",
       "split1_test_score                                        0.913947   \n",
       "split2_test_score                                        0.912868   \n",
       "split3_test_score                                        0.911923   \n",
       "split4_test_score                                        0.908674   \n",
       "mean_test_score                                          0.912541   \n",
       "std_test_score                                         0.00223627   \n",
       "rank_test_score                                                 2   \n",
       "\n",
       "                                                               34  \\\n",
       "mean_fit_time                                             0.13783   \n",
       "std_fit_time                                           0.00212412   \n",
       "mean_score_time                                         0.0129764   \n",
       "std_score_time                                        1.68165e-05   \n",
       "param_max_depth                                                 9   \n",
       "param_min_samples_leaf                                        500   \n",
       "params                  {'max_depth': 9, 'min_samples_leaf': 500}   \n",
       "split0_test_score                                        0.915295   \n",
       "split1_test_score                                        0.913947   \n",
       "split2_test_score                                        0.912868   \n",
       "split3_test_score                                        0.911923   \n",
       "split4_test_score                                        0.908674   \n",
       "mean_test_score                                          0.912541   \n",
       "std_test_score                                         0.00223627   \n",
       "rank_test_score                                                 2   \n",
       "\n",
       "                                                                38  \n",
       "mean_fit_time                                              0.14422  \n",
       "std_fit_time                                            0.00896462  \n",
       "mean_score_time                                           0.013369  \n",
       "std_score_time                                          0.00148782  \n",
       "param_max_depth                                                 10  \n",
       "param_min_samples_leaf                                         500  \n",
       "params                  {'max_depth': 10, 'min_samples_leaf': 500}  \n",
       "split0_test_score                                         0.915295  \n",
       "split1_test_score                                         0.913947  \n",
       "split2_test_score                                         0.912868  \n",
       "split3_test_score                                         0.911923  \n",
       "split4_test_score                                         0.908674  \n",
       "mean_test_score                                           0.912541  \n",
       "std_test_score                                          0.00223627  \n",
       "rank_test_score                                                  2  "
      ]
     },
     "execution_count": 57,
     "metadata": {},
     "output_type": "execute_result"
    }
   ],
   "source": [
    "##データフレームにはquery()メソッドが用意されていているので、スコアランクが高いものにフィルタします。\n",
    "df_cv.query('rank_test_score <= 10').T"
   ]
  },
  {
   "cell_type": "markdown",
   "metadata": {},
   "source": [
    "実際に表を見なくても`best_params_`という値に最適なハイパーパラーメータが入っているので確認しましょう。"
   ]
  },
  {
   "cell_type": "code",
   "execution_count": 58,
   "metadata": {},
   "outputs": [
    {
     "data": {
      "text/plain": [
       "{'max_depth': 5, 'min_samples_leaf': 100}"
      ]
     },
     "execution_count": 58,
     "metadata": {},
     "output_type": "execute_result"
    }
   ],
   "source": [
    "## 最適なハイパーパラメータの確認\n",
    "tuned_model.best_params_"
   ]
  },
  {
   "cell_type": "markdown",
   "metadata": {},
   "source": [
    "`best_estimator_`には最適なハイパーパラーメータを使用した最適なモデルが入っています。最後に、こちらを用いてテストデータの結果も確認しましょう。"
   ]
  },
  {
   "cell_type": "code",
   "execution_count": 17,
   "metadata": {},
   "outputs": [],
   "source": [
    "## 最適なモデルの引き継ぎ\n",
    "#clf_best = tuned_model.best_estimator_"
   ]
  },
  {
   "cell_type": "code",
   "execution_count": 18,
   "metadata": {},
   "outputs": [],
   "source": [
    "## モデルの内容を確認します。\n",
    "#clf_best"
   ]
  },
  {
   "cell_type": "markdown",
   "metadata": {},
   "source": [
    "モデルのテストを行います。まずはモデル作成に利用したtain_val(訓練＋検証）について"
   ]
  },
  {
   "cell_type": "code",
   "execution_count": 19,
   "metadata": {},
   "outputs": [],
   "source": [
    "## モデルのテスト \n",
    "#print(clf_best.score(x_train, t_train))\n"
   ]
  },
  {
   "cell_type": "markdown",
   "metadata": {},
   "source": [
    "モデルのテストを行います。次にモデル作成に利用しなかったtest(テスト）について"
   ]
  },
  {
   "cell_type": "code",
   "execution_count": 20,
   "metadata": {},
   "outputs": [],
   "source": [
    "#print(clf_best.score(x_val, t_val))"
   ]
  },
  {
   "cell_type": "markdown",
   "metadata": {},
   "source": [
    "訓練＋検証、テスト共に良い結果が得られているようです。チューニングされた決定木も可視化してみましょう。"
   ]
  },
  {
   "cell_type": "code",
   "execution_count": 63,
   "metadata": {},
   "outputs": [],
   "source": [
    "## clf_bestを利用した決定木グラフの作成\n",
    "\n",
    "from sklearn.tree import export_graphviz\n",
    "import pydotplus\n",
    "from IPython.display import Image\n",
    "export_graphviz(clf_best, out_file=\"tree_clf_best.dot\", feature_names=xd.columns, class_names=[\"0\",\"1\"], filled=True, rounded=True)\n",
    "g = pydotplus.graph_from_dot_file(path=\"tree_clf_best.dot\")\n",
    "## Image(g.create_png())"
   ]
  },
  {
   "cell_type": "markdown",
   "metadata": {},
   "source": [
    "maxdepth=3 の時と同様にWebGraphvizを使って clf_best での決定木グラフを書いてみましょう。\n",
    "![clf_best](./images/clf_best.png)"
   ]
  },
  {
   "cell_type": "markdown",
   "metadata": {},
   "source": [
    "それぞれのモデルについてtrainとvalのスコアを比較します。\n"
   ]
  },
  {
   "cell_type": "code",
   "execution_count": null,
   "metadata": {},
   "outputs": [],
   "source": []
  },
  {
   "cell_type": "markdown",
   "metadata": {},
   "source": [
    "## 4.未知のデータに対する予測を実施する\n"
   ]
  },
  {
   "cell_type": "markdown",
   "metadata": {},
   "source": [
    "作成されたモデルを使って、結果の分からない全く新しいデータに対して予測を実施してみましょう。\n",
    "\n",
    "ここではあらかじめ用意された、630件の定期預金を申し込んだかどうかの分からない顧客のデータ\"sample.csv”を読み込みます。右端に”ｙ”の列がないことがポイントです。sampleという名前のデータフレームに投入します。\n"
   ]
  },
  {
   "cell_type": "code",
   "execution_count": 64,
   "metadata": {},
   "outputs": [],
   "source": [
    "#　やってみましょう！\n",
    "sample  =  pd."
   ]
  },
  {
   "cell_type": "code",
   "execution_count": 22,
   "metadata": {},
   "outputs": [],
   "source": [
    "#sample.head()"
   ]
  },
  {
   "cell_type": "markdown",
   "metadata": {},
   "source": [
    "idは予測モデルを作成するための入力変数として必要がないため削除して、その他の入力変数について、カテゴリカルな変数をダミー変数化します。"
   ]
  },
  {
   "cell_type": "code",
   "execution_count": 23,
   "metadata": {},
   "outputs": [],
   "source": [
    "## id を削除する やってみましょう！\n",
    "sample1 = "
   ]
  },
  {
   "cell_type": "markdown",
   "metadata": {},
   "source": [
    "新しいデータに対してダミー変数化を行います。"
   ]
  },
  {
   "cell_type": "code",
   "execution_count": 67,
   "metadata": {},
   "outputs": [],
   "source": [
    "## 新しいデータに対してダミー変数化を行います。\n",
    "#x = pd.get_dummies(sample1)"
   ]
  },
  {
   "cell_type": "code",
   "execution_count": 24,
   "metadata": {},
   "outputs": [],
   "source": [
    "#x.head()"
   ]
  },
  {
   "cell_type": "markdown",
   "metadata": {},
   "source": [
    "作成したモデルを使って予測値を取得します。グリッドサーチの結果、最適なモデルは clf_best というモデルで保存しています。prodect_proba で予測値を算出します。列＝１の方が「定期預金を契約する＝ｙ」の確率です。"
   ]
  },
  {
   "cell_type": "code",
   "execution_count": 25,
   "metadata": {},
   "outputs": [],
   "source": [
    "## 列＝１の方が「定期預金を契約する＝ｙ」の確率です。\n",
    "#clf_best.predict_proba(x)"
   ]
  },
  {
   "cell_type": "markdown",
   "metadata": {},
   "source": [
    "「定期預金を契約する＝ｙ」の確率を y_new に代入します。"
   ]
  },
  {
   "cell_type": "code",
   "execution_count": 70,
   "metadata": {},
   "outputs": [],
   "source": [
    "## 作成したモデルを利用してsample に対して予測値を取得します。\n",
    "#y_new = clf_best.predict_proba(x)[:,1]\n"
   ]
  },
  {
   "cell_type": "markdown",
   "metadata": {},
   "source": [
    "「定期預金を契約する＝ｙ」の確率でをデータフレームにし、列名として\"predict\"を付けます。"
   ]
  },
  {
   "cell_type": "code",
   "execution_count": 71,
   "metadata": {},
   "outputs": [],
   "source": [
    "## 予測値をデータフレーム化します。\n",
    "df_y_new = pd.DataFrame(y_new,  columns=['predict'])\n"
   ]
  },
  {
   "cell_type": "markdown",
   "metadata": {},
   "source": [
    "一番初めに読み込んだsampleの右端に予測値を追加します。"
   ]
  },
  {
   "cell_type": "code",
   "execution_count": 72,
   "metadata": {},
   "outputs": [],
   "source": [
    "## オリジナルのデータの右端に予測値を追加します。\n",
    "sample_y_new = pd.concat([sample,df_y_new],axis=1)"
   ]
  },
  {
   "cell_type": "markdown",
   "metadata": {},
   "source": [
    "中身を確認します。"
   ]
  },
  {
   "cell_type": "code",
   "execution_count": 26,
   "metadata": {},
   "outputs": [],
   "source": [
    "#sample_y_new.head()"
   ]
  },
  {
   "cell_type": "markdown",
   "metadata": {},
   "source": [
    "Tableau で予測値を利用した分析とダッシュボード作成を行うために、CSVファイルとして吐き出します。"
   ]
  },
  {
   "cell_type": "code",
   "execution_count": 74,
   "metadata": {},
   "outputs": [],
   "source": [
    "## CSVファイルとして書き出します。\n",
    "sample_y_new.to_csv(\"sample_y_new.csv\")"
   ]
  },
  {
   "cell_type": "markdown",
   "metadata": {},
   "source": [
    "### ここから先はTableau Desktopで確認します。"
   ]
  },
  {
   "cell_type": "code",
   "execution_count": 27,
   "metadata": {
    "scrolled": true
   },
   "outputs": [],
   "source": [
    "#%%HTML\n",
    "#<div class='tableauPlaceholder' id='viz1580557814844' style='position: relative'><noscript><a href='#'><img alt=' ' src='https:&#47;&#47;public.tableau.com&#47;static&#47;images&#47;W3&#47;W359FJNH6&#47;1_rss.png' style='border: none' /></a></noscript><object class='tableauViz'  style='display:none;'><param name='host_url' value='https%3A%2F%2Fpublic.tableau.com%2F' /> <param name='embed_code_version' value='3' /> <param name='path' value='shared&#47;W359FJNH6' /> <param name='toolbar' value='yes' /><param name='static_image' value='https:&#47;&#47;public.tableau.com&#47;static&#47;images&#47;W3&#47;W359FJNH6&#47;1.png' /> <param name='animate_transition' value='yes' /><param name='display_static_image' value='yes' /><param name='display_spinner' value='yes' /><param name='display_overlay' value='yes' /><param name='display_count' value='yes' /><param name='filter' value='publish=yes' /></object></div>                <script type='text/javascript'>                    var divElement = document.getElementById('viz1580557814844');                    var vizElement = divElement.getElementsByTagName('object')[0];                    if ( divElement.offsetWidth > 800 ) { vizElement.style.width='100%';vizElement.style.height=(divElement.offsetWidth*0.85)+'px';} else if ( divElement.offsetWidth > 500 ) { vizElement.style.width='100%';vizElement.style.height=(divElement.offsetWidth*0.95)+'px';} else { vizElement.style.width='100%';vizElement.style.minHeight='1150px';vizElement.style.maxHeight=(divElement.offsetWidth*1.77)+'px';}                     var scriptElement = document.createElement('script');                    scriptElement.src = 'https://public.tableau.com/javascripts/api/viz_v1.js';                    vizElement.parentNode.insertBefore(scriptElement, vizElement);                </script>"
   ]
  },
  {
   "cell_type": "code",
   "execution_count": null,
   "metadata": {},
   "outputs": [],
   "source": []
  },
  {
   "cell_type": "markdown",
   "metadata": {},
   "source": [
    "### 参考資料"
   ]
  },
  {
   "cell_type": "markdown",
   "metadata": {},
   "source": [
    "### 混合行列とは\n",
    "予測値が閾値以上のものをY（正例）、以下のものを（負例）と判定したときに、実際にそれがあっている場合とあっていない場合があります。\n",
    "\n",
    "![混合行列](./images/混合行列.png)"
   ]
  },
  {
   "cell_type": "markdown",
   "metadata": {},
   "source": [
    "何を重要視するかで評価指標が異なります。\n",
    "![混合行列の考え方](./images/accuracy.png)"
   ]
  },
  {
   "cell_type": "markdown",
   "metadata": {},
   "source": [
    "![recall](./images/recall.png)"
   ]
  },
  {
   "cell_type": "markdown",
   "metadata": {},
   "source": [
    "![Precision](./images/Precision.png)"
   ]
  },
  {
   "cell_type": "markdown",
   "metadata": {},
   "source": [
    "※　F1値　も評価として利用されます\n",
    "![F1](./images/f1.png)"
   ]
  },
  {
   "cell_type": "markdown",
   "metadata": {},
   "source": [
    "**ROC曲線とは**\n",
    "推定確立がρ以上のものを陽性とみなすとき、縦軸：真陽性率（TP/(TP+FN))、横軸：偽陽性率　(FP/(FP+TN)に対応する点を。推定確立ρに対してプロットしてつなげた折れ線グラフです・・・・・　（うーん、なんのこっちゃ）\n",
    "\n",
    "\n",
    "![ROC](./images/ROC曲線.png)"
   ]
  },
  {
   "cell_type": "markdown",
   "metadata": {},
   "source": [
    "**つまりこういうこと**\n",
    "\n",
    "①　予測値が高い順からとりあえず並べる　\n",
    "    →　本当にあってるものと、間違っちゃったFP（なんちゃってポジティブ）がある。\n",
    "    \n",
    "②　本当にあってれば、縦方向に上に進む（真陽性率上がる）間違えれば横に進む（偽陽性率上がる）\n",
    "\n",
    "③　次に確率の低い点について確認、②を繰り返す\n",
    "\n",
    "④　間違いなく、早く言い当てることができれば、上方向に進む、横方向には進まない。（→　これがいいモデル）\n",
    "\n",
    "![ROC曲線の解釈](./images/ROC曲線の解釈.png)"
   ]
  },
  {
   "cell_type": "markdown",
   "metadata": {},
   "source": [
    "※　正解から予測値がどれだけ離れいてるかの差を総和して評価する指標　logloss も指標として利用される場合があります。"
   ]
  },
  {
   "cell_type": "markdown",
   "metadata": {},
   "source": [
    "機械学習でLog Lossとは何か\n",
    "https://qiita.com/exp/items/1c6c9a3fae2d97bfa0c7\n",
    "一言でいうと、クロスエントロピー。0~1の予測値を入力してモデルの性能を測る指標を出力する。\n",
    "\n",
    "Accuracyとの違い\n",
    "→　Accuracyは予測した値と正解が一致していた数のカウント。正解/不正解しかないのでいつも良い指標とは限らない（惜しかった、などが測れない）\n",
    "→　Log Lossは実際のラベルからどのくらい違っていたのかを考慮できる\n"
   ]
  },
  {
   "cell_type": "markdown",
   "metadata": {},
   "source": [
    "Kaggleで勝つデータ分析の技術より\n",
    "![loggloss](./images/logloss.png)"
   ]
  },
  {
   "cell_type": "markdown",
   "metadata": {},
   "source": [
    "### おまけ　Logistic回帰でやってみましょう。"
   ]
  },
  {
   "cell_type": "code",
   "execution_count": 88,
   "metadata": {},
   "outputs": [],
   "source": [
    "#import\n",
    "from sklearn.linear_model import LogisticRegression\n"
   ]
  },
  {
   "cell_type": "code",
   "execution_count": 89,
   "metadata": {},
   "outputs": [
    {
     "name": "stderr",
     "output_type": "stream",
     "text": [
      "C:\\ProgramData\\Anaconda3\\lib\\site-packages\\sklearn\\linear_model\\_logistic.py:939: ConvergenceWarning: lbfgs failed to converge (status=1):\n",
      "STOP: TOTAL NO. of ITERATIONS REACHED LIMIT.\n",
      "\n",
      "Increase the number of iterations (max_iter) or scale the data as shown in:\n",
      "    https://scikit-learn.org/stable/modules/preprocessing.html.\n",
      "Please also refer to the documentation for alternative solver options:\n",
      "    https://scikit-learn.org/stable/modules/linear_model.html#logistic-regression\n",
      "  extra_warning_msg=_LOGISTIC_SOLVER_CONVERGENCE_MSG)\n"
     ]
    },
    {
     "data": {
      "text/plain": [
       "LogisticRegression(C=1.0, class_weight=None, dual=False, fit_intercept=True,\n",
       "                   intercept_scaling=1, l1_ratio=None, max_iter=100,\n",
       "                   multi_class='auto', n_jobs=None, penalty='l2',\n",
       "                   random_state=None, solver='lbfgs', tol=0.0001, verbose=0,\n",
       "                   warm_start=False)"
      ]
     },
     "execution_count": 89,
     "metadata": {},
     "output_type": "execute_result"
    }
   ],
   "source": [
    "#モデルの定義\n",
    "\n",
    "model = LogisticRegression()\n",
    "model.fit(x_train , t_train)"
   ]
  },
  {
   "cell_type": "code",
   "execution_count": 90,
   "metadata": {},
   "outputs": [
    {
     "data": {
      "text/plain": [
       "0.9101945021446491"
      ]
     },
     "execution_count": 90,
     "metadata": {},
     "output_type": "execute_result"
    }
   ],
   "source": [
    "model.score(x_train, t_train)  # Accuracy: 精度 = 何個中何個当たっていたか？"
   ]
  },
  {
   "cell_type": "code",
   "execution_count": 91,
   "metadata": {},
   "outputs": [
    {
     "data": {
      "text/plain": [
       "0.9050740470988103"
      ]
     },
     "execution_count": 91,
     "metadata": {},
     "output_type": "execute_result"
    }
   ],
   "source": [
    "model.score(x_val, t_val)  # Accuracy: 精度 = 何個中何個当たっていたか？"
   ]
  },
  {
   "cell_type": "markdown",
   "metadata": {},
   "source": [
    "## お疲れさまでした！"
   ]
  },
  {
   "cell_type": "code",
   "execution_count": null,
   "metadata": {},
   "outputs": [],
   "source": []
  }
 ],
 "metadata": {
  "kernelspec": {
   "display_name": "Python 3",
   "language": "python",
   "name": "python3"
  },
  "language_info": {
   "codemirror_mode": {
    "name": "ipython",
    "version": 3
   },
   "file_extension": ".py",
   "mimetype": "text/x-python",
   "name": "python",
   "nbconvert_exporter": "python",
   "pygments_lexer": "ipython3",
   "version": "3.7.4"
  }
 },
 "nbformat": 4,
 "nbformat_minor": 2
}
